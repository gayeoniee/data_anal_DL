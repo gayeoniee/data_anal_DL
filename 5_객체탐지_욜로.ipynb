{
 "cells": [
  {
   "cell_type": "markdown",
   "id": "9de5ce46",
   "metadata": {},
   "source": [
    "# 객체감지"
   ]
  },
  {
   "cell_type": "code",
   "execution_count": 2,
   "id": "cd4cbc67",
   "metadata": {},
   "outputs": [
    {
     "name": "stdout",
     "output_type": "stream",
     "text": [
      "\n",
      "image 1/1 c:\\githome\\data_anal_DL\\YellowLabradorLooking_new.jpg: 544x640 1 dog, 53.3ms\n",
      "Speed: 10.5ms preprocess, 53.3ms inference, 3.6ms postprocess per image at shape (1, 3, 544, 640)\n"
     ]
    },
    {
     "data": {
      "text/plain": [
       "[ultralytics.engine.results.Results object with attributes:\n",
       " \n",
       " boxes: ultralytics.engine.results.Boxes object\n",
       " keypoints: None\n",
       " masks: None\n",
       " names: {0: 'person', 1: 'bicycle', 2: 'car', 3: 'motorcycle', 4: 'airplane', 5: 'bus', 6: 'train', 7: 'truck', 8: 'boat', 9: 'traffic light', 10: 'fire hydrant', 11: 'stop sign', 12: 'parking meter', 13: 'bench', 14: 'bird', 15: 'cat', 16: 'dog', 17: 'horse', 18: 'sheep', 19: 'cow', 20: 'elephant', 21: 'bear', 22: 'zebra', 23: 'giraffe', 24: 'backpack', 25: 'umbrella', 26: 'handbag', 27: 'tie', 28: 'suitcase', 29: 'frisbee', 30: 'skis', 31: 'snowboard', 32: 'sports ball', 33: 'kite', 34: 'baseball bat', 35: 'baseball glove', 36: 'skateboard', 37: 'surfboard', 38: 'tennis racket', 39: 'bottle', 40: 'wine glass', 41: 'cup', 42: 'fork', 43: 'knife', 44: 'spoon', 45: 'bowl', 46: 'banana', 47: 'apple', 48: 'sandwich', 49: 'orange', 50: 'broccoli', 51: 'carrot', 52: 'hot dog', 53: 'pizza', 54: 'donut', 55: 'cake', 56: 'chair', 57: 'couch', 58: 'potted plant', 59: 'bed', 60: 'dining table', 61: 'toilet', 62: 'tv', 63: 'laptop', 64: 'mouse', 65: 'remote', 66: 'keyboard', 67: 'cell phone', 68: 'microwave', 69: 'oven', 70: 'toaster', 71: 'sink', 72: 'refrigerator', 73: 'book', 74: 'clock', 75: 'vase', 76: 'scissors', 77: 'teddy bear', 78: 'hair drier', 79: 'toothbrush'}\n",
       " obb: None\n",
       " orig_img: array([[[101, 167, 162],\n",
       "         [ 96, 162, 157],\n",
       "         [ 93, 157, 151],\n",
       "         ...,\n",
       "         [ 79, 137, 132],\n",
       "         [ 71, 131, 125],\n",
       "         [ 69, 129, 123]],\n",
       " \n",
       "        [[ 98, 164, 159],\n",
       "         [ 95, 161, 156],\n",
       "         [ 94, 158, 152],\n",
       "         ...,\n",
       "         [ 82, 140, 135],\n",
       "         [ 79, 139, 133],\n",
       "         [ 79, 139, 133]],\n",
       " \n",
       "        [[ 94, 158, 153],\n",
       "         [ 95, 159, 154],\n",
       "         [ 96, 160, 154],\n",
       "         ...,\n",
       "         [ 85, 144, 136],\n",
       "         [ 87, 147, 139],\n",
       "         [ 88, 148, 140]],\n",
       " \n",
       "        ...,\n",
       " \n",
       "        [[ 24,  62,  74],\n",
       "         [ 28,  66,  78],\n",
       "         [ 54,  90, 100],\n",
       "         ...,\n",
       "         [  6,  70,  64],\n",
       "         [ 18,  90,  84],\n",
       "         [ 63, 140, 133]],\n",
       " \n",
       "        [[ 89, 125, 135],\n",
       "         [ 69, 105, 115],\n",
       "         [108, 144, 152],\n",
       "         ...,\n",
       "         [ 11,  78,  73],\n",
       "         [ 30,  97,  94],\n",
       "         [ 74, 142, 141]],\n",
       " \n",
       "        [[131, 164, 167],\n",
       "         [153, 186, 189],\n",
       "         [126, 162, 162],\n",
       "         ...,\n",
       "         [  0,  78,  73],\n",
       "         [ 23,  88,  89],\n",
       "         [ 56, 117, 119]]], dtype=uint8)\n",
       " orig_shape: (577, 700)\n",
       " path: 'c:\\\\githome\\\\data_anal_DL\\\\YellowLabradorLooking_new.jpg'\n",
       " probs: None\n",
       " save_dir: 'runs\\\\detect\\\\predict'\n",
       " speed: {'preprocess': 10.460100002092076, 'inference': 53.34059999950114, 'postprocess': 3.6392000001796987}]"
      ]
     },
     "execution_count": 2,
     "metadata": {},
     "output_type": "execute_result"
    }
   ],
   "source": [
    "from ultralytics import YOLO\n",
    "\n",
    "model = YOLO('yolov8n.pt')\n",
    "result = model('YellowLabradorLooking_new.jpg')\n",
    "result"
   ]
  },
  {
   "cell_type": "code",
   "execution_count": 4,
   "id": "6bfbe692",
   "metadata": {},
   "outputs": [
    {
     "name": "stdout",
     "output_type": "stream",
     "text": [
      "\n",
      "image 1/1 c:\\githome\\data_anal_DL\\YellowLabradorLooking_new.jpg: 544x640 1 dog, 21.3ms\n",
      "Speed: 4.5ms preprocess, 21.3ms inference, 6.1ms postprocess per image at shape (1, 3, 544, 640)\n"
     ]
    },
    {
     "data": {
      "text/plain": [
       "ultralytics.engine.results.Boxes object with attributes:\n",
       "\n",
       "cls: tensor([16.], device='cuda:0')\n",
       "conf: tensor([0.6653], device='cuda:0')\n",
       "data: tensor([[ 51.3454,  33.1425, 629.2720, 555.0193,   0.6653,  16.0000]], device='cuda:0')\n",
       "id: None\n",
       "is_track: False\n",
       "orig_shape: (577, 700)\n",
       "shape: torch.Size([1, 6])\n",
       "xywh: tensor([[340.3087, 294.0809, 577.9266, 521.8768]], device='cuda:0')\n",
       "xywhn: tensor([[0.4862, 0.5097, 0.8256, 0.9045]], device='cuda:0')\n",
       "xyxy: tensor([[ 51.3454,  33.1425, 629.2720, 555.0193]], device='cuda:0')\n",
       "xyxyn: tensor([[0.0734, 0.0574, 0.8990, 0.9619]], device='cuda:0')"
      ]
     },
     "execution_count": 4,
     "metadata": {},
     "output_type": "execute_result"
    }
   ],
   "source": [
    "# 바운딩 박스, 라벨 출력\n",
    "result = model('YellowLabradorLooking_new.jpg')\n",
    "result[0].boxes"
   ]
  },
  {
   "cell_type": "code",
   "execution_count": 5,
   "id": "5542e992",
   "metadata": {},
   "outputs": [],
   "source": [
    "import cv2\n",
    "img = cv2.imread('YellowLabradorLooking_new.jpg')"
   ]
  },
  {
   "cell_type": "code",
   "execution_count": 7,
   "id": "e6fa5cde",
   "metadata": {},
   "outputs": [],
   "source": [
    "for box in result[0].boxes:\n",
    "    class_id = box.cls[0]\n",
    "    class_name = model.names[class_id.item()]\n",
    "    \n",
    "    # 신뢰도 점수\n",
    "    conf = float(box.conf[0])\n",
    "    \n",
    "    # 바운딩 박스\n",
    "    coords = box.xyxy[0].tolist()\n",
    "    x1, y1, x2, y2 = map(int, coords)\n",
    "    cv2.rectangle(img, (x1,y1), (x2,y2), (0,255,0), 2)\n",
    "    cv2.putText(img, f'{class_name} {conf:.4f}', (x1,y1-10), cv2.FONT_HERSHEY_PLAIN, 1, (0,255,0))\n",
    "    \n",
    "cv2.imshow('yolov8 object detection', img)\n",
    "cv2.waitKey()\n",
    "cv2.destroyAllWindows()"
   ]
  },
  {
   "cell_type": "markdown",
   "id": "30cb5146",
   "metadata": {},
   "source": [
    "# segmentation"
   ]
  },
  {
   "cell_type": "code",
   "execution_count": 10,
   "id": "3afcc869",
   "metadata": {},
   "outputs": [
    {
     "name": "stdout",
     "output_type": "stream",
     "text": [
      "\n",
      "image 1/1 c:\\githome\\data_anal_DL\\road.png: 448x640 2 persons, 2 motorcycles, 24.4ms\n",
      "Speed: 2.9ms preprocess, 24.4ms inference, 9.4ms postprocess per image at shape (1, 3, 448, 640)\n"
     ]
    }
   ],
   "source": [
    "model = YOLO('yolov8n-seg.pt')\n",
    "result = model('road.png')"
   ]
  },
  {
   "cell_type": "code",
   "execution_count": 16,
   "id": "82d2f7d2",
   "metadata": {},
   "outputs": [],
   "source": [
    "import numpy as np\n",
    "img_new = cv2.imread('road.png')\n",
    "overlay = img_new.copy()  # 마스크용\n",
    "\n",
    "for box, mask in zip(result[0].boxes, result[0].masks):\n",
    "    \n",
    "    polygon = mask.xy[0].astype(np.int32)\n",
    "    cv2.fillPoly(overlay, [polygon], (0,255,0))\n",
    "    \n",
    "    class_id = box.cls[0]\n",
    "    class_name = model.names[class_id.item()]\n",
    "    \n",
    "    # 신뢰도 점수\n",
    "    conf = float(box.conf[0])\n",
    "    \n",
    "    # 바운딩 박스\n",
    "    coords = box.xyxy[0].tolist()\n",
    "    x1, y1, x2, y2 = map(int, coords)\n",
    "    cv2.rectangle(img_new, (x1,y1), (x2,y2), (0,255,0), 2)\n",
    "    cv2.putText(img_new, f'{class_name} {conf:.4f}', (x1,y1-10), cv2.FONT_HERSHEY_PLAIN, 1, (0,255,0))\n",
    "    \n",
    "# img + overlay 겹쳐서 출력\n",
    "alpha = 0.5\n",
    "final_img = cv2.addWeighted(overlay, alpha, img_new, 1-alpha, 0)\n",
    "\n",
    "# 최종 출력\n",
    "cv2.imshow('yolov8 object detection', final_img)\n",
    "cv2.waitKey()\n",
    "cv2.destroyAllWindows()"
   ]
  },
  {
   "cell_type": "markdown",
   "id": "94b2205e",
   "metadata": {},
   "source": [
    "# Pose"
   ]
  },
  {
   "cell_type": "code",
   "execution_count": 28,
   "id": "3494151b",
   "metadata": {},
   "outputs": [
    {
     "name": "stdout",
     "output_type": "stream",
     "text": [
      "\n",
      "image 1/1 c:\\githome\\data_anal_DL\\people.png: 640x480 4 persons, 62.3ms\n",
      "Speed: 3.7ms preprocess, 62.3ms inference, 9.9ms postprocess per image at shape (1, 3, 640, 480)\n"
     ]
    }
   ],
   "source": [
    "pose_model = YOLO('yolov8n-pose.pt')\n",
    "pose_result = pose_model('people.png')\n",
    "img = cv2.imread('people.png')\n",
    "\n",
    "kp = pose_result[0].keypoints\n",
    "\n",
    "for man_kp in kp:\n",
    "    for x, y in man_kp.xy[0]:\n",
    "        if x>0 and y>0:\n",
    "            cv2.circle(img, (int(x), int(y)), 3, (255,0,0), -1)\n",
    "            \n",
    "cv2.imshow('yolov8 pose estimation', img)\n",
    "cv2.waitKey()\n",
    "cv2.destroyAllWindows()"
   ]
  },
  {
   "cell_type": "code",
   "execution_count": null,
   "id": "e441216d",
   "metadata": {},
   "outputs": [],
   "source": []
  }
 ],
 "metadata": {
  "kernelspec": {
   "display_name": "torch_cuda_yolo_env",
   "language": "python",
   "name": "python3"
  },
  "language_info": {
   "codemirror_mode": {
    "name": "ipython",
    "version": 3
   },
   "file_extension": ".py",
   "mimetype": "text/x-python",
   "name": "python",
   "nbconvert_exporter": "python",
   "pygments_lexer": "ipython3",
   "version": "3.10.18"
  }
 },
 "nbformat": 4,
 "nbformat_minor": 5
}
