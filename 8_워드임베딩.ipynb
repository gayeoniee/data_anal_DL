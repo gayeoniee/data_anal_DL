{
 "cells": [
  {
   "cell_type": "markdown",
   "id": "458b9a9e",
   "metadata": {},
   "source": [
    "# 단어의 임베딩\n",
    "- 빈도수 계산: 빈도기반 - TF 상대빈도\n",
    "- TDM : matrix TF를 행렬로 맘든 덧, 사전을 이용한 단순 빈도\n",
    "- TF-IDF : TF x IDF\n",
    "    - IDF : 역 문서 빈도"
   ]
  },
  {
   "cell_type": "code",
   "execution_count": 3,
   "id": "5efd7f93",
   "metadata": {},
   "outputs": [
    {
     "data": {
      "text/plain": [
       "['John',\n",
       " 'likes',\n",
       " 'to',\n",
       " 'watch',\n",
       " 'movies',\n",
       " 'Mary',\n",
       " 'likes',\n",
       " 'movies',\n",
       " 'too',\n",
       " 'Mary',\n",
       " 'also',\n",
       " 'likes',\n",
       " 'to',\n",
       " 'watch',\n",
       " 'football',\n",
       " 'games']"
      ]
     },
     "execution_count": 3,
     "metadata": {},
     "output_type": "execute_result"
    }
   ],
   "source": [
    "text = 'John likes to watch movies. Mary likes movies too. Mary also likes to watch football games.'\n",
    "words = text.replace('.', '').split()\n",
    "words"
   ]
  },
  {
   "cell_type": "code",
   "execution_count": 4,
   "id": "473d2e20",
   "metadata": {},
   "outputs": [
    {
     "data": {
      "text/plain": [
       "(array(['John', 'Mary', 'also', 'football', 'games', 'likes', 'movies',\n",
       "        'to', 'too', 'watch'], dtype='<U8'),\n",
       " array([1, 2, 1, 1, 1, 3, 2, 2, 1, 2]))"
      ]
     },
     "execution_count": 4,
     "metadata": {},
     "output_type": "execute_result"
    }
   ],
   "source": [
    "# 딕셔너리 TF생성\n",
    "import numpy as np\n",
    "word_count = np.unique(words, return_counts=True)\n",
    "word_count"
   ]
  },
  {
   "cell_type": "code",
   "execution_count": 5,
   "id": "f9dc975d",
   "metadata": {},
   "outputs": [
    {
     "data": {
      "text/plain": [
       "{np.str_('John'): np.int64(1),\n",
       " np.str_('Mary'): np.int64(2),\n",
       " np.str_('also'): np.int64(1),\n",
       " np.str_('football'): np.int64(1),\n",
       " np.str_('games'): np.int64(1),\n",
       " np.str_('likes'): np.int64(3),\n",
       " np.str_('movies'): np.int64(2),\n",
       " np.str_('to'): np.int64(2),\n",
       " np.str_('too'): np.int64(1),\n",
       " np.str_('watch'): np.int64(2)}"
      ]
     },
     "execution_count": 5,
     "metadata": {},
     "output_type": "execute_result"
    }
   ],
   "source": [
    "word_to_cnt = {}\n",
    "for word, cnt in zip(*word_count):\n",
    "    word_to_cnt[word] = cnt\n",
    "word_to_cnt"
   ]
  },
  {
   "cell_type": "code",
   "execution_count": 6,
   "id": "d2320dfa",
   "metadata": {},
   "outputs": [
    {
     "data": {
      "text/plain": [
       "np.int64(2)"
      ]
     },
     "execution_count": 6,
     "metadata": {},
     "output_type": "execute_result"
    }
   ],
   "source": [
    "word_to_cnt['movies']"
   ]
  },
  {
   "cell_type": "markdown",
   "id": "8ba886ae",
   "metadata": {},
   "source": [
    "# TDM\n",
    "- 단어의 빈도수를 계산하여 행렬로!"
   ]
  },
  {
   "cell_type": "code",
   "execution_count": 7,
   "id": "56b6591a",
   "metadata": {},
   "outputs": [
    {
     "data": {
      "text/plain": [
       "array([[0, 0, 0, 1, 2, 1, 2, 1, 1, 1],\n",
       "       [1, 1, 1, 0, 1, 1, 0, 1, 0, 1]])"
      ]
     },
     "execution_count": 7,
     "metadata": {},
     "output_type": "execute_result"
    }
   ],
   "source": [
    "from sklearn.feature_extraction.text import CountVectorizer\n",
    "corpus = ['John likes to watch movies. Mary likes movies too.' ,\n",
    "          'Mary also likes to watch football games.']\n",
    "\n",
    "vector = CountVectorizer()\n",
    "tdm_array = vector.fit_transform(corpus).toarray()\n",
    "tdm_array"
   ]
  },
  {
   "cell_type": "code",
   "execution_count": 8,
   "id": "fa9ddb82",
   "metadata": {},
   "outputs": [
    {
     "name": "stdout",
     "output_type": "stream",
     "text": [
      "{'john': 3, 'likes': 4, 'to': 7, 'watch': 9, 'movies': 6, 'mary': 5, 'too': 8, 'also': 0, 'football': 1, 'games': 2}\n"
     ]
    }
   ],
   "source": [
    "tf_dic = vector.vocabulary_\n",
    "print(tf_dic)"
   ]
  },
  {
   "cell_type": "code",
   "execution_count": 9,
   "id": "f9c7a186",
   "metadata": {},
   "outputs": [
    {
     "data": {
      "text/plain": [
       "{'also': 0,\n",
       " 'football': 1,\n",
       " 'games': 2,\n",
       " 'john': 3,\n",
       " 'likes': 4,\n",
       " 'mary': 5,\n",
       " 'movies': 6,\n",
       " 'to': 7,\n",
       " 'too': 8,\n",
       " 'watch': 9}"
      ]
     },
     "execution_count": 9,
     "metadata": {},
     "output_type": "execute_result"
    }
   ],
   "source": [
    "import pandas as pd\n",
    "\n",
    "tf_dic_sorted = dict(sorted(tf_dic.items(), key=lambda item: item[1]))\n",
    "tf_dic_sorted"
   ]
  },
  {
   "cell_type": "code",
   "execution_count": 10,
   "id": "e9ef4e2b",
   "metadata": {},
   "outputs": [
    {
     "data": {
      "text/html": [
       "<div>\n",
       "<style scoped>\n",
       "    .dataframe tbody tr th:only-of-type {\n",
       "        vertical-align: middle;\n",
       "    }\n",
       "\n",
       "    .dataframe tbody tr th {\n",
       "        vertical-align: top;\n",
       "    }\n",
       "\n",
       "    .dataframe thead th {\n",
       "        text-align: right;\n",
       "    }\n",
       "</style>\n",
       "<table border=\"1\" class=\"dataframe\">\n",
       "  <thead>\n",
       "    <tr style=\"text-align: right;\">\n",
       "      <th></th>\n",
       "      <th>also</th>\n",
       "      <th>football</th>\n",
       "      <th>games</th>\n",
       "      <th>john</th>\n",
       "      <th>likes</th>\n",
       "      <th>mary</th>\n",
       "      <th>movies</th>\n",
       "      <th>to</th>\n",
       "      <th>too</th>\n",
       "      <th>watch</th>\n",
       "    </tr>\n",
       "  </thead>\n",
       "  <tbody>\n",
       "    <tr>\n",
       "      <th>0</th>\n",
       "      <td>0</td>\n",
       "      <td>0</td>\n",
       "      <td>0</td>\n",
       "      <td>1</td>\n",
       "      <td>2</td>\n",
       "      <td>1</td>\n",
       "      <td>2</td>\n",
       "      <td>1</td>\n",
       "      <td>1</td>\n",
       "      <td>1</td>\n",
       "    </tr>\n",
       "    <tr>\n",
       "      <th>1</th>\n",
       "      <td>1</td>\n",
       "      <td>1</td>\n",
       "      <td>1</td>\n",
       "      <td>0</td>\n",
       "      <td>1</td>\n",
       "      <td>1</td>\n",
       "      <td>0</td>\n",
       "      <td>1</td>\n",
       "      <td>0</td>\n",
       "      <td>1</td>\n",
       "    </tr>\n",
       "  </tbody>\n",
       "</table>\n",
       "</div>"
      ],
      "text/plain": [
       "   also  football  games  john  likes  mary  movies  to  too  watch\n",
       "0     0         0      0     1      2     1       2   1    1      1\n",
       "1     1         1      1     0      1     1       0   1    0      1"
      ]
     },
     "execution_count": 10,
     "metadata": {},
     "output_type": "execute_result"
    }
   ],
   "source": [
    "df = pd.DataFrame(tdm_array, columns=tf_dic_sorted.keys())\n",
    "df"
   ]
  },
  {
   "cell_type": "markdown",
   "id": "449b73f2",
   "metadata": {},
   "source": [
    "# TF-IDF"
   ]
  },
  {
   "cell_type": "code",
   "execution_count": 11,
   "id": "3d05b74d",
   "metadata": {},
   "outputs": [
    {
     "data": {
      "text/plain": [
       "array([[0.        , 0.        , 0.        , 0.32369906, 0.46062909,\n",
       "        0.23031454, 0.64739811, 0.23031454, 0.32369906, 0.23031454],\n",
       "       [0.44610081, 0.44610081, 0.44610081, 0.        , 0.3174044 ,\n",
       "        0.3174044 , 0.        , 0.3174044 , 0.        , 0.3174044 ]])"
      ]
     },
     "execution_count": 11,
     "metadata": {},
     "output_type": "execute_result"
    }
   ],
   "source": [
    "from sklearn.feature_extraction.text import TfidfVectorizer\n",
    "tfidf_vec = TfidfVectorizer()\n",
    "tfidf_array = tfidf_vec.fit_transform(corpus).toarray()\n",
    "tfidf_array"
   ]
  },
  {
   "cell_type": "code",
   "execution_count": 14,
   "id": "f001616a",
   "metadata": {},
   "outputs": [
    {
     "data": {
      "text/html": [
       "<div>\n",
       "<style scoped>\n",
       "    .dataframe tbody tr th:only-of-type {\n",
       "        vertical-align: middle;\n",
       "    }\n",
       "\n",
       "    .dataframe tbody tr th {\n",
       "        vertical-align: top;\n",
       "    }\n",
       "\n",
       "    .dataframe thead th {\n",
       "        text-align: right;\n",
       "    }\n",
       "</style>\n",
       "<table border=\"1\" class=\"dataframe\">\n",
       "  <thead>\n",
       "    <tr style=\"text-align: right;\">\n",
       "      <th></th>\n",
       "      <th>also</th>\n",
       "      <th>football</th>\n",
       "      <th>games</th>\n",
       "      <th>john</th>\n",
       "      <th>likes</th>\n",
       "      <th>mary</th>\n",
       "      <th>movies</th>\n",
       "      <th>to</th>\n",
       "      <th>too</th>\n",
       "      <th>watch</th>\n",
       "    </tr>\n",
       "  </thead>\n",
       "  <tbody>\n",
       "    <tr>\n",
       "      <th>0</th>\n",
       "      <td>0.000000</td>\n",
       "      <td>0.000000</td>\n",
       "      <td>0.000000</td>\n",
       "      <td>0.323699</td>\n",
       "      <td>0.460629</td>\n",
       "      <td>0.230315</td>\n",
       "      <td>0.647398</td>\n",
       "      <td>0.230315</td>\n",
       "      <td>0.323699</td>\n",
       "      <td>0.230315</td>\n",
       "    </tr>\n",
       "    <tr>\n",
       "      <th>1</th>\n",
       "      <td>0.446101</td>\n",
       "      <td>0.446101</td>\n",
       "      <td>0.446101</td>\n",
       "      <td>0.000000</td>\n",
       "      <td>0.317404</td>\n",
       "      <td>0.317404</td>\n",
       "      <td>0.000000</td>\n",
       "      <td>0.317404</td>\n",
       "      <td>0.000000</td>\n",
       "      <td>0.317404</td>\n",
       "    </tr>\n",
       "  </tbody>\n",
       "</table>\n",
       "</div>"
      ],
      "text/plain": [
       "       also  football     games      john     likes      mary    movies  \\\n",
       "0  0.000000  0.000000  0.000000  0.323699  0.460629  0.230315  0.647398   \n",
       "1  0.446101  0.446101  0.446101  0.000000  0.317404  0.317404  0.000000   \n",
       "\n",
       "         to       too     watch  \n",
       "0  0.230315  0.323699  0.230315  \n",
       "1  0.317404  0.000000  0.317404  "
      ]
     },
     "execution_count": 14,
     "metadata": {},
     "output_type": "execute_result"
    }
   ],
   "source": [
    "tfidf_dic = tfidf_vec.vocabulary_\n",
    "tfidf_dic_sorted = dict(sorted(tfidf_dic.items(), key=lambda item: item[1]))\n",
    "tfidf_tdm = pd.DataFrame(tfidf_array, columns=tfidf_dic_sorted.keys())\n",
    "tfidf_tdm"
   ]
  },
  {
   "cell_type": "code",
   "execution_count": 2,
   "id": "1d52f355",
   "metadata": {},
   "outputs": [],
   "source": [
    "from gensim.models import Word2Vec\n",
    "\n",
    "corpus = ['John likes to watch movies. Mary likes movies too.' ,\n",
    "          'Mary also likes to watch football games.']\n",
    "\n",
    "word_list = []"
   ]
  },
  {
   "cell_type": "code",
   "execution_count": 3,
   "id": "5ee553b6",
   "metadata": {},
   "outputs": [
    {
     "data": {
      "text/plain": [
       "[['John', 'likes', 'to', 'watch', 'movies', 'Mary', 'likes', 'movies', 'too'],\n",
       " ['Mary', 'also', 'likes', 'to', 'watch', 'football', 'games']]"
      ]
     },
     "execution_count": 3,
     "metadata": {},
     "output_type": "execute_result"
    }
   ],
   "source": [
    "for word in corpus:\n",
    "    word_list.append(word.replace('.', '').split())\n",
    "    \n",
    "word_list"
   ]
  },
  {
   "cell_type": "code",
   "execution_count": 8,
   "id": "e6eac866",
   "metadata": {},
   "outputs": [
    {
     "data": {
      "text/plain": [
       "[('likes', 0.18567818403244019),\n",
       " ('too', -0.01069658063352108),\n",
       " ('football', -0.011570061556994915),\n",
       " ('also', -0.0238940492272377),\n",
       " ('movies', -0.0652000680565834),\n",
       " ('Mary', -0.07073411345481873),\n",
       " ('watch', -0.2023678719997406),\n",
       " ('to', -0.2099374383687973)]"
      ]
     },
     "execution_count": 8,
     "metadata": {},
     "output_type": "execute_result"
    }
   ],
   "source": [
    "model = Word2Vec(word_list, sg=0, vector_size=100, window=3, min_count=1)\n",
    "model.wv.most_similar('John', 'games')"
   ]
  },
  {
   "cell_type": "code",
   "execution_count": null,
   "id": "3414caed",
   "metadata": {},
   "outputs": [],
   "source": []
  }
 ],
 "metadata": {
  "kernelspec": {
   "display_name": "tf_cuda_env",
   "language": "python",
   "name": "python3"
  },
  "language_info": {
   "codemirror_mode": {
    "name": "ipython",
    "version": 3
   },
   "file_extension": ".py",
   "mimetype": "text/x-python",
   "name": "python",
   "nbconvert_exporter": "python",
   "pygments_lexer": "ipython3",
   "version": "3.10.18"
  }
 },
 "nbformat": 4,
 "nbformat_minor": 5
}
